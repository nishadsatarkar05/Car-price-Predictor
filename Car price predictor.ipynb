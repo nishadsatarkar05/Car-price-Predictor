{
 "cells": [
  {
   "cell_type": "code",
   "execution_count": 57,
   "id": "2a901d3d",
   "metadata": {},
   "outputs": [],
   "source": [
    "import pandas as pd\n",
    "import numpy as np"
   ]
  },
  {
   "cell_type": "code",
   "execution_count": 2,
   "id": "a23011eb",
   "metadata": {
    "scrolled": true
   },
   "outputs": [],
   "source": [
    "car = pd.read_csv('quikr_car.csv')"
   ]
  },
  {
   "cell_type": "code",
   "execution_count": 3,
   "id": "81906102",
   "metadata": {},
   "outputs": [
    {
     "data": {
      "text/html": [
       "<div>\n",
       "<style scoped>\n",
       "    .dataframe tbody tr th:only-of-type {\n",
       "        vertical-align: middle;\n",
       "    }\n",
       "\n",
       "    .dataframe tbody tr th {\n",
       "        vertical-align: top;\n",
       "    }\n",
       "\n",
       "    .dataframe thead th {\n",
       "        text-align: right;\n",
       "    }\n",
       "</style>\n",
       "<table border=\"1\" class=\"dataframe\">\n",
       "  <thead>\n",
       "    <tr style=\"text-align: right;\">\n",
       "      <th></th>\n",
       "      <th>name</th>\n",
       "      <th>company</th>\n",
       "      <th>year</th>\n",
       "      <th>Price</th>\n",
       "      <th>kms_driven</th>\n",
       "      <th>fuel_type</th>\n",
       "    </tr>\n",
       "  </thead>\n",
       "  <tbody>\n",
       "    <tr>\n",
       "      <th>0</th>\n",
       "      <td>Hyundai Santro Xing XO eRLX Euro III</td>\n",
       "      <td>Hyundai</td>\n",
       "      <td>2007</td>\n",
       "      <td>80,000</td>\n",
       "      <td>45,000 kms</td>\n",
       "      <td>Petrol</td>\n",
       "    </tr>\n",
       "    <tr>\n",
       "      <th>1</th>\n",
       "      <td>Mahindra Jeep CL550 MDI</td>\n",
       "      <td>Mahindra</td>\n",
       "      <td>2006</td>\n",
       "      <td>4,25,000</td>\n",
       "      <td>40 kms</td>\n",
       "      <td>Diesel</td>\n",
       "    </tr>\n",
       "    <tr>\n",
       "      <th>2</th>\n",
       "      <td>Maruti Suzuki Alto 800 Vxi</td>\n",
       "      <td>Maruti</td>\n",
       "      <td>2018</td>\n",
       "      <td>Ask For Price</td>\n",
       "      <td>22,000 kms</td>\n",
       "      <td>Petrol</td>\n",
       "    </tr>\n",
       "    <tr>\n",
       "      <th>3</th>\n",
       "      <td>Hyundai Grand i10 Magna 1.2 Kappa VTVT</td>\n",
       "      <td>Hyundai</td>\n",
       "      <td>2014</td>\n",
       "      <td>3,25,000</td>\n",
       "      <td>28,000 kms</td>\n",
       "      <td>Petrol</td>\n",
       "    </tr>\n",
       "    <tr>\n",
       "      <th>4</th>\n",
       "      <td>Ford EcoSport Titanium 1.5L TDCi</td>\n",
       "      <td>Ford</td>\n",
       "      <td>2014</td>\n",
       "      <td>5,75,000</td>\n",
       "      <td>36,000 kms</td>\n",
       "      <td>Diesel</td>\n",
       "    </tr>\n",
       "  </tbody>\n",
       "</table>\n",
       "</div>"
      ],
      "text/plain": [
       "                                     name   company  year          Price  \\\n",
       "0    Hyundai Santro Xing XO eRLX Euro III   Hyundai  2007         80,000   \n",
       "1                 Mahindra Jeep CL550 MDI  Mahindra  2006       4,25,000   \n",
       "2              Maruti Suzuki Alto 800 Vxi    Maruti  2018  Ask For Price   \n",
       "3  Hyundai Grand i10 Magna 1.2 Kappa VTVT   Hyundai  2014       3,25,000   \n",
       "4        Ford EcoSport Titanium 1.5L TDCi      Ford  2014       5,75,000   \n",
       "\n",
       "   kms_driven fuel_type  \n",
       "0  45,000 kms    Petrol  \n",
       "1      40 kms    Diesel  \n",
       "2  22,000 kms    Petrol  \n",
       "3  28,000 kms    Petrol  \n",
       "4  36,000 kms    Diesel  "
      ]
     },
     "execution_count": 3,
     "metadata": {},
     "output_type": "execute_result"
    }
   ],
   "source": [
    "car.head()"
   ]
  },
  {
   "cell_type": "code",
   "execution_count": 4,
   "id": "f3d3ebdd",
   "metadata": {},
   "outputs": [
    {
     "data": {
      "text/plain": [
       "(892, 6)"
      ]
     },
     "execution_count": 4,
     "metadata": {},
     "output_type": "execute_result"
    }
   ],
   "source": [
    "car.shape"
   ]
  },
  {
   "cell_type": "code",
   "execution_count": 5,
   "id": "e70fd9c5",
   "metadata": {},
   "outputs": [
    {
     "name": "stdout",
     "output_type": "stream",
     "text": [
      "<class 'pandas.core.frame.DataFrame'>\n",
      "RangeIndex: 892 entries, 0 to 891\n",
      "Data columns (total 6 columns):\n",
      " #   Column      Non-Null Count  Dtype \n",
      "---  ------      --------------  ----- \n",
      " 0   name        892 non-null    object\n",
      " 1   company     892 non-null    object\n",
      " 2   year        892 non-null    object\n",
      " 3   Price       892 non-null    object\n",
      " 4   kms_driven  840 non-null    object\n",
      " 5   fuel_type   837 non-null    object\n",
      "dtypes: object(6)\n",
      "memory usage: 41.9+ KB\n"
     ]
    }
   ],
   "source": [
    "car.info()"
   ]
  },
  {
   "cell_type": "code",
   "execution_count": 6,
   "id": "c89a2727",
   "metadata": {},
   "outputs": [],
   "source": [
    "##Quality\n",
    "#- year has many non-years values\n",
    "#- year object\n",
    "#- price = 'ask for price'\n",
    "#- kms_driven has kms with integers\n",
    "#- kms_driven object to int\n",
    "#- kms_driven has nan values\n",
    "#- fuel type has nan values\n",
    "#- name keep 3 words"
   ]
  },
  {
   "cell_type": "code",
   "execution_count": 7,
   "id": "f62c0d8a",
   "metadata": {},
   "outputs": [],
   "source": [
    "backup = car.copy()"
   ]
  },
  {
   "cell_type": "code",
   "execution_count": 8,
   "id": "e356a389",
   "metadata": {},
   "outputs": [
    {
     "name": "stdout",
     "output_type": "stream",
     "text": [
      "                                       name    company  year          Price  \\\n",
      "0      Hyundai Santro Xing XO eRLX Euro III    Hyundai  2007         80,000   \n",
      "1                   Mahindra Jeep CL550 MDI   Mahindra  2006       4,25,000   \n",
      "2                Maruti Suzuki Alto 800 Vxi     Maruti  2018  Ask For Price   \n",
      "3    Hyundai Grand i10 Magna 1.2 Kappa VTVT    Hyundai  2014       3,25,000   \n",
      "4          Ford EcoSport Titanium 1.5L TDCi       Ford  2014       5,75,000   \n",
      "..                                      ...        ...   ...            ...   \n",
      "887                                      Ta       Tara  zest       3,10,000   \n",
      "888                     Tata Zest XM Diesel       Tata  2018       2,60,000   \n",
      "889                      Mahindra Quanto C8   Mahindra  2013       3,90,000   \n",
      "890                Honda Amaze 1.2 E i VTEC      Honda  2014       1,80,000   \n",
      "891               Chevrolet Sail 1.2 LT ABS  Chevrolet  2014       1,60,000   \n",
      "\n",
      "     kms_driven fuel_type  \n",
      "0    45,000 kms    Petrol  \n",
      "1        40 kms    Diesel  \n",
      "2    22,000 kms    Petrol  \n",
      "3    28,000 kms    Petrol  \n",
      "4    36,000 kms    Diesel  \n",
      "..          ...       ...  \n",
      "887         NaN       NaN  \n",
      "888  27,000 kms    Diesel  \n",
      "889  40,000 kms    Diesel  \n",
      "890      Petrol       NaN  \n",
      "891      Petrol       NaN  \n",
      "\n",
      "[892 rows x 6 columns]\n"
     ]
    }
   ],
   "source": [
    "print(backup)"
   ]
  },
  {
   "cell_type": "code",
   "execution_count": 9,
   "id": "590a1ca6",
   "metadata": {},
   "outputs": [
    {
     "data": {
      "text/plain": [
       "<bound method Series.unique of 0      2007\n",
       "1      2006\n",
       "2      2018\n",
       "3      2014\n",
       "4      2014\n",
       "       ... \n",
       "887    zest\n",
       "888    2018\n",
       "889    2013\n",
       "890    2014\n",
       "891    2014\n",
       "Name: year, Length: 892, dtype: object>"
      ]
     },
     "execution_count": 9,
     "metadata": {},
     "output_type": "execute_result"
    }
   ],
   "source": [
    "car['year'].unique"
   ]
  },
  {
   "cell_type": "code",
   "execution_count": 10,
   "id": "6af0ae6b",
   "metadata": {},
   "outputs": [],
   "source": [
    "car = car[car['year'].str.isnumeric()]"
   ]
  },
  {
   "cell_type": "code",
   "execution_count": 11,
   "id": "6a476894",
   "metadata": {},
   "outputs": [],
   "source": [
    "car['year'] = car['year'].astype(int)"
   ]
  },
  {
   "cell_type": "code",
   "execution_count": 12,
   "id": "196b06c4",
   "metadata": {
    "scrolled": true
   },
   "outputs": [],
   "source": [
    "car = car[car['Price']!=\"Ask For Price\"]"
   ]
  },
  {
   "cell_type": "code",
   "execution_count": 13,
   "id": "f9a07b7a",
   "metadata": {},
   "outputs": [],
   "source": [
    "car['Price'] = car['Price'].str.replace(',','').astype(int)"
   ]
  },
  {
   "cell_type": "code",
   "execution_count": 14,
   "id": "c04e156b",
   "metadata": {},
   "outputs": [
    {
     "data": {
      "text/plain": [
       "<bound method DataFrame.info of                                        name    company  year   Price  \\\n",
       "0      Hyundai Santro Xing XO eRLX Euro III    Hyundai  2007   80000   \n",
       "1                   Mahindra Jeep CL550 MDI   Mahindra  2006  425000   \n",
       "3    Hyundai Grand i10 Magna 1.2 Kappa VTVT    Hyundai  2014  325000   \n",
       "4          Ford EcoSport Titanium 1.5L TDCi       Ford  2014  575000   \n",
       "6                                 Ford Figo       Ford  2012  175000   \n",
       "..                                      ...        ...   ...     ...   \n",
       "886                    Toyota Corolla Altis     Toyota  2009  300000   \n",
       "888                     Tata Zest XM Diesel       Tata  2018  260000   \n",
       "889                      Mahindra Quanto C8   Mahindra  2013  390000   \n",
       "890                Honda Amaze 1.2 E i VTEC      Honda  2014  180000   \n",
       "891               Chevrolet Sail 1.2 LT ABS  Chevrolet  2014  160000   \n",
       "\n",
       "       kms_driven fuel_type  \n",
       "0      45,000 kms    Petrol  \n",
       "1          40 kms    Diesel  \n",
       "3      28,000 kms    Petrol  \n",
       "4      36,000 kms    Diesel  \n",
       "6      41,000 kms    Diesel  \n",
       "..            ...       ...  \n",
       "886  1,32,000 kms    Petrol  \n",
       "888    27,000 kms    Diesel  \n",
       "889    40,000 kms    Diesel  \n",
       "890        Petrol       NaN  \n",
       "891        Petrol       NaN  \n",
       "\n",
       "[819 rows x 6 columns]>"
      ]
     },
     "execution_count": 14,
     "metadata": {},
     "output_type": "execute_result"
    }
   ],
   "source": [
    "car.info"
   ]
  },
  {
   "cell_type": "code",
   "execution_count": 15,
   "id": "9748b406",
   "metadata": {},
   "outputs": [],
   "source": [
    "car['kms_driven'] = car['kms_driven'].str.split(' ').str.get(0).str.replace(',','')"
   ]
  },
  {
   "cell_type": "code",
   "execution_count": 16,
   "id": "d4d269b5",
   "metadata": {},
   "outputs": [],
   "source": [
    "car=car[car['kms_driven'].str.isnumeric()]"
   ]
  },
  {
   "cell_type": "code",
   "execution_count": 17,
   "id": "2ad6a02c",
   "metadata": {
    "scrolled": true
   },
   "outputs": [
    {
     "data": {
      "text/plain": [
       "0       45000\n",
       "1          40\n",
       "3       28000\n",
       "4       36000\n",
       "6       41000\n",
       "        ...  \n",
       "883     50000\n",
       "885     30000\n",
       "886    132000\n",
       "888     27000\n",
       "889     40000\n",
       "Name: kms_driven, Length: 817, dtype: int32"
      ]
     },
     "execution_count": 17,
     "metadata": {},
     "output_type": "execute_result"
    }
   ],
   "source": [
    "car['kms_driven'].astype(int)"
   ]
  },
  {
   "cell_type": "code",
   "execution_count": 18,
   "id": "266510e4",
   "metadata": {},
   "outputs": [
    {
     "data": {
      "text/plain": [
       "<bound method DataFrame.info of                                        name   company  year   Price  \\\n",
       "0      Hyundai Santro Xing XO eRLX Euro III   Hyundai  2007   80000   \n",
       "1                   Mahindra Jeep CL550 MDI  Mahindra  2006  425000   \n",
       "3    Hyundai Grand i10 Magna 1.2 Kappa VTVT   Hyundai  2014  325000   \n",
       "4          Ford EcoSport Titanium 1.5L TDCi      Ford  2014  575000   \n",
       "6                                 Ford Figo      Ford  2012  175000   \n",
       "..                                      ...       ...   ...     ...   \n",
       "883              Maruti Suzuki Ritz VXI ABS    Maruti  2011  270000   \n",
       "885               Tata Indica V2 DLE BS III      Tata  2009  110000   \n",
       "886                    Toyota Corolla Altis    Toyota  2009  300000   \n",
       "888                     Tata Zest XM Diesel      Tata  2018  260000   \n",
       "889                      Mahindra Quanto C8  Mahindra  2013  390000   \n",
       "\n",
       "    kms_driven fuel_type  \n",
       "0        45000    Petrol  \n",
       "1           40    Diesel  \n",
       "3        28000    Petrol  \n",
       "4        36000    Diesel  \n",
       "6        41000    Diesel  \n",
       "..         ...       ...  \n",
       "883      50000    Petrol  \n",
       "885      30000    Diesel  \n",
       "886     132000    Petrol  \n",
       "888      27000    Diesel  \n",
       "889      40000    Diesel  \n",
       "\n",
       "[817 rows x 6 columns]>"
      ]
     },
     "execution_count": 18,
     "metadata": {},
     "output_type": "execute_result"
    }
   ],
   "source": [
    "car.info"
   ]
  },
  {
   "cell_type": "code",
   "execution_count": 19,
   "id": "670f9f22",
   "metadata": {},
   "outputs": [],
   "source": [
    "car = car[~car['fuel_type'].isna()]"
   ]
  },
  {
   "cell_type": "code",
   "execution_count": 20,
   "id": "6c5bf11c",
   "metadata": {},
   "outputs": [
    {
     "name": "stderr",
     "output_type": "stream",
     "text": [
      "C:\\Users\\nisha\\AppData\\Local\\Temp\\ipykernel_32\\3677590539.py:1: SettingWithCopyWarning: \n",
      "A value is trying to be set on a copy of a slice from a DataFrame.\n",
      "Try using .loc[row_indexer,col_indexer] = value instead\n",
      "\n",
      "See the caveats in the documentation: https://pandas.pydata.org/pandas-docs/stable/user_guide/indexing.html#returning-a-view-versus-a-copy\n",
      "  car['name']=car['name'].str.split(' ').str.slice(0,3).str.join(' ')\n"
     ]
    }
   ],
   "source": [
    "car['name']=car['name'].str.split(' ').str.slice(0,3).str.join(' ')"
   ]
  },
  {
   "cell_type": "code",
   "execution_count": 21,
   "id": "01306e90",
   "metadata": {},
   "outputs": [],
   "source": [
    "car = car.reset_index(drop=True)"
   ]
  },
  {
   "cell_type": "code",
   "execution_count": 22,
   "id": "5fd84c9e",
   "metadata": {},
   "outputs": [
    {
     "data": {
      "text/html": [
       "<div>\n",
       "<style scoped>\n",
       "    .dataframe tbody tr th:only-of-type {\n",
       "        vertical-align: middle;\n",
       "    }\n",
       "\n",
       "    .dataframe tbody tr th {\n",
       "        vertical-align: top;\n",
       "    }\n",
       "\n",
       "    .dataframe thead th {\n",
       "        text-align: right;\n",
       "    }\n",
       "</style>\n",
       "<table border=\"1\" class=\"dataframe\">\n",
       "  <thead>\n",
       "    <tr style=\"text-align: right;\">\n",
       "      <th></th>\n",
       "      <th>year</th>\n",
       "      <th>Price</th>\n",
       "    </tr>\n",
       "  </thead>\n",
       "  <tbody>\n",
       "    <tr>\n",
       "      <th>count</th>\n",
       "      <td>816.000000</td>\n",
       "      <td>8.160000e+02</td>\n",
       "    </tr>\n",
       "    <tr>\n",
       "      <th>mean</th>\n",
       "      <td>2012.444853</td>\n",
       "      <td>4.117176e+05</td>\n",
       "    </tr>\n",
       "    <tr>\n",
       "      <th>std</th>\n",
       "      <td>4.002992</td>\n",
       "      <td>4.751844e+05</td>\n",
       "    </tr>\n",
       "    <tr>\n",
       "      <th>min</th>\n",
       "      <td>1995.000000</td>\n",
       "      <td>3.000000e+04</td>\n",
       "    </tr>\n",
       "    <tr>\n",
       "      <th>25%</th>\n",
       "      <td>2010.000000</td>\n",
       "      <td>1.750000e+05</td>\n",
       "    </tr>\n",
       "    <tr>\n",
       "      <th>50%</th>\n",
       "      <td>2013.000000</td>\n",
       "      <td>2.999990e+05</td>\n",
       "    </tr>\n",
       "    <tr>\n",
       "      <th>75%</th>\n",
       "      <td>2015.000000</td>\n",
       "      <td>4.912500e+05</td>\n",
       "    </tr>\n",
       "    <tr>\n",
       "      <th>max</th>\n",
       "      <td>2019.000000</td>\n",
       "      <td>8.500003e+06</td>\n",
       "    </tr>\n",
       "  </tbody>\n",
       "</table>\n",
       "</div>"
      ],
      "text/plain": [
       "              year         Price\n",
       "count   816.000000  8.160000e+02\n",
       "mean   2012.444853  4.117176e+05\n",
       "std       4.002992  4.751844e+05\n",
       "min    1995.000000  3.000000e+04\n",
       "25%    2010.000000  1.750000e+05\n",
       "50%    2013.000000  2.999990e+05\n",
       "75%    2015.000000  4.912500e+05\n",
       "max    2019.000000  8.500003e+06"
      ]
     },
     "execution_count": 22,
     "metadata": {},
     "output_type": "execute_result"
    }
   ],
   "source": [
    "car.describe()"
   ]
  },
  {
   "cell_type": "code",
   "execution_count": 23,
   "id": "b4c9382b",
   "metadata": {},
   "outputs": [],
   "source": [
    "car = car[car['Price']<6e6].reset_index(drop=True)"
   ]
  },
  {
   "cell_type": "code",
   "execution_count": 24,
   "id": "3a0ddacc",
   "metadata": {},
   "outputs": [
    {
     "data": {
      "text/html": [
       "<div>\n",
       "<style scoped>\n",
       "    .dataframe tbody tr th:only-of-type {\n",
       "        vertical-align: middle;\n",
       "    }\n",
       "\n",
       "    .dataframe tbody tr th {\n",
       "        vertical-align: top;\n",
       "    }\n",
       "\n",
       "    .dataframe thead th {\n",
       "        text-align: right;\n",
       "    }\n",
       "</style>\n",
       "<table border=\"1\" class=\"dataframe\">\n",
       "  <thead>\n",
       "    <tr style=\"text-align: right;\">\n",
       "      <th></th>\n",
       "      <th>name</th>\n",
       "      <th>company</th>\n",
       "      <th>year</th>\n",
       "      <th>Price</th>\n",
       "      <th>kms_driven</th>\n",
       "      <th>fuel_type</th>\n",
       "    </tr>\n",
       "  </thead>\n",
       "  <tbody>\n",
       "    <tr>\n",
       "      <th>0</th>\n",
       "      <td>Hyundai Santro Xing</td>\n",
       "      <td>Hyundai</td>\n",
       "      <td>2007</td>\n",
       "      <td>80000</td>\n",
       "      <td>45000</td>\n",
       "      <td>Petrol</td>\n",
       "    </tr>\n",
       "    <tr>\n",
       "      <th>1</th>\n",
       "      <td>Mahindra Jeep CL550</td>\n",
       "      <td>Mahindra</td>\n",
       "      <td>2006</td>\n",
       "      <td>425000</td>\n",
       "      <td>40</td>\n",
       "      <td>Diesel</td>\n",
       "    </tr>\n",
       "    <tr>\n",
       "      <th>2</th>\n",
       "      <td>Hyundai Grand i10</td>\n",
       "      <td>Hyundai</td>\n",
       "      <td>2014</td>\n",
       "      <td>325000</td>\n",
       "      <td>28000</td>\n",
       "      <td>Petrol</td>\n",
       "    </tr>\n",
       "    <tr>\n",
       "      <th>3</th>\n",
       "      <td>Ford EcoSport Titanium</td>\n",
       "      <td>Ford</td>\n",
       "      <td>2014</td>\n",
       "      <td>575000</td>\n",
       "      <td>36000</td>\n",
       "      <td>Diesel</td>\n",
       "    </tr>\n",
       "    <tr>\n",
       "      <th>4</th>\n",
       "      <td>Ford Figo</td>\n",
       "      <td>Ford</td>\n",
       "      <td>2012</td>\n",
       "      <td>175000</td>\n",
       "      <td>41000</td>\n",
       "      <td>Diesel</td>\n",
       "    </tr>\n",
       "    <tr>\n",
       "      <th>...</th>\n",
       "      <td>...</td>\n",
       "      <td>...</td>\n",
       "      <td>...</td>\n",
       "      <td>...</td>\n",
       "      <td>...</td>\n",
       "      <td>...</td>\n",
       "    </tr>\n",
       "    <tr>\n",
       "      <th>810</th>\n",
       "      <td>Maruti Suzuki Ritz</td>\n",
       "      <td>Maruti</td>\n",
       "      <td>2011</td>\n",
       "      <td>270000</td>\n",
       "      <td>50000</td>\n",
       "      <td>Petrol</td>\n",
       "    </tr>\n",
       "    <tr>\n",
       "      <th>811</th>\n",
       "      <td>Tata Indica V2</td>\n",
       "      <td>Tata</td>\n",
       "      <td>2009</td>\n",
       "      <td>110000</td>\n",
       "      <td>30000</td>\n",
       "      <td>Diesel</td>\n",
       "    </tr>\n",
       "    <tr>\n",
       "      <th>812</th>\n",
       "      <td>Toyota Corolla Altis</td>\n",
       "      <td>Toyota</td>\n",
       "      <td>2009</td>\n",
       "      <td>300000</td>\n",
       "      <td>132000</td>\n",
       "      <td>Petrol</td>\n",
       "    </tr>\n",
       "    <tr>\n",
       "      <th>813</th>\n",
       "      <td>Tata Zest XM</td>\n",
       "      <td>Tata</td>\n",
       "      <td>2018</td>\n",
       "      <td>260000</td>\n",
       "      <td>27000</td>\n",
       "      <td>Diesel</td>\n",
       "    </tr>\n",
       "    <tr>\n",
       "      <th>814</th>\n",
       "      <td>Mahindra Quanto C8</td>\n",
       "      <td>Mahindra</td>\n",
       "      <td>2013</td>\n",
       "      <td>390000</td>\n",
       "      <td>40000</td>\n",
       "      <td>Diesel</td>\n",
       "    </tr>\n",
       "  </tbody>\n",
       "</table>\n",
       "<p>815 rows × 6 columns</p>\n",
       "</div>"
      ],
      "text/plain": [
       "                       name   company  year   Price kms_driven fuel_type\n",
       "0       Hyundai Santro Xing   Hyundai  2007   80000      45000    Petrol\n",
       "1       Mahindra Jeep CL550  Mahindra  2006  425000         40    Diesel\n",
       "2         Hyundai Grand i10   Hyundai  2014  325000      28000    Petrol\n",
       "3    Ford EcoSport Titanium      Ford  2014  575000      36000    Diesel\n",
       "4                 Ford Figo      Ford  2012  175000      41000    Diesel\n",
       "..                      ...       ...   ...     ...        ...       ...\n",
       "810      Maruti Suzuki Ritz    Maruti  2011  270000      50000    Petrol\n",
       "811          Tata Indica V2      Tata  2009  110000      30000    Diesel\n",
       "812    Toyota Corolla Altis    Toyota  2009  300000     132000    Petrol\n",
       "813            Tata Zest XM      Tata  2018  260000      27000    Diesel\n",
       "814      Mahindra Quanto C8  Mahindra  2013  390000      40000    Diesel\n",
       "\n",
       "[815 rows x 6 columns]"
      ]
     },
     "execution_count": 24,
     "metadata": {},
     "output_type": "execute_result"
    }
   ],
   "source": [
    "car"
   ]
  },
  {
   "cell_type": "code",
   "execution_count": 25,
   "id": "3558ff13",
   "metadata": {},
   "outputs": [],
   "source": [
    "car.to_csv('Cleaned Car.csv')"
   ]
  },
  {
   "cell_type": "code",
   "execution_count": 26,
   "id": "a8df61f7",
   "metadata": {},
   "outputs": [],
   "source": [
    "X =car.drop(columns='Price')\n",
    "y=car['Price']"
   ]
  },
  {
   "cell_type": "code",
   "execution_count": 27,
   "id": "4fdac561",
   "metadata": {},
   "outputs": [],
   "source": [
    "from sklearn.model_selection import train_test_split\n",
    "X_train, X_test,y_train,y_test=train_test_split(X,y,test_size=0.2)\n"
   ]
  },
  {
   "cell_type": "code",
   "execution_count": 33,
   "id": "35855b74",
   "metadata": {},
   "outputs": [],
   "source": [
    "from sklearn.linear_model import LinearRegression\n",
    "from sklearn.metrics import r2_score\n",
    "from sklearn.preprocessing import OneHotEncoder\n",
    "from sklearn.compose import make_column_transformer \n",
    "from sklearn.pipeline import make_pipeline"
   ]
  },
  {
   "cell_type": "code",
   "execution_count": 46,
   "id": "7201541a",
   "metadata": {},
   "outputs": [
    {
     "data": {
      "text/plain": [
       "OneHotEncoder()"
      ]
     },
     "execution_count": 46,
     "metadata": {},
     "output_type": "execute_result"
    }
   ],
   "source": [
    "ohe = OneHotEncoder()\n",
    "ohe.fit(X[['name','company','fuel_type']])"
   ]
  },
  {
   "cell_type": "code",
   "execution_count": 48,
   "id": "a8fd8b01",
   "metadata": {},
   "outputs": [
    {
     "data": {
      "text/plain": [
       "[array(['Audi A3 Cabriolet', 'Audi A4 1.8', 'Audi A4 2.0', 'Audi A6 2.0',\n",
       "        'Audi A8', 'Audi Q3 2.0', 'Audi Q5 2.0', 'Audi Q7', 'BMW 3 Series',\n",
       "        'BMW 5 Series', 'BMW 7 Series', 'BMW X1', 'BMW X1 sDrive20d',\n",
       "        'BMW X1 xDrive20d', 'Chevrolet Beat', 'Chevrolet Beat Diesel',\n",
       "        'Chevrolet Beat LS', 'Chevrolet Beat LT', 'Chevrolet Beat PS',\n",
       "        'Chevrolet Cruze LTZ', 'Chevrolet Enjoy', 'Chevrolet Enjoy 1.4',\n",
       "        'Chevrolet Sail 1.2', 'Chevrolet Sail UVA', 'Chevrolet Spark',\n",
       "        'Chevrolet Spark 1.0', 'Chevrolet Spark LS', 'Chevrolet Spark LT',\n",
       "        'Chevrolet Tavera LS', 'Chevrolet Tavera Neo', 'Datsun GO T',\n",
       "        'Datsun Go Plus', 'Datsun Redi GO', 'Fiat Linea Emotion',\n",
       "        'Fiat Petra ELX', 'Fiat Punto Emotion', 'Force Motors Force',\n",
       "        'Force Motors One', 'Ford EcoSport', 'Ford EcoSport Ambiente',\n",
       "        'Ford EcoSport Titanium', 'Ford EcoSport Trend',\n",
       "        'Ford Endeavor 4x4', 'Ford Fiesta', 'Ford Fiesta SXi', 'Ford Figo',\n",
       "        'Ford Figo Diesel', 'Ford Figo Duratorq', 'Ford Figo Petrol',\n",
       "        'Ford Fusion 1.4', 'Ford Ikon 1.3', 'Ford Ikon 1.6',\n",
       "        'Hindustan Motors Ambassador', 'Honda Accord', 'Honda Amaze',\n",
       "        'Honda Amaze 1.2', 'Honda Amaze 1.5', 'Honda Brio', 'Honda Brio V',\n",
       "        'Honda Brio VX', 'Honda City', 'Honda City 1.5', 'Honda City SV',\n",
       "        'Honda City VX', 'Honda City ZX', 'Honda Jazz S', 'Honda Jazz VX',\n",
       "        'Honda Mobilio', 'Honda Mobilio S', 'Honda WR V', 'Hyundai Accent',\n",
       "        'Hyundai Accent Executive', 'Hyundai Accent GLE',\n",
       "        'Hyundai Accent GLX', 'Hyundai Creta', 'Hyundai Creta 1.6',\n",
       "        'Hyundai Elantra 1.8', 'Hyundai Elantra SX', 'Hyundai Elite i20',\n",
       "        'Hyundai Eon', 'Hyundai Eon D', 'Hyundai Eon Era',\n",
       "        'Hyundai Eon Magna', 'Hyundai Eon Sportz', 'Hyundai Fluidic Verna',\n",
       "        'Hyundai Getz', 'Hyundai Getz GLE', 'Hyundai Getz Prime',\n",
       "        'Hyundai Grand i10', 'Hyundai Santro', 'Hyundai Santro AE',\n",
       "        'Hyundai Santro Xing', 'Hyundai Sonata Transform', 'Hyundai Verna',\n",
       "        'Hyundai Verna 1.4', 'Hyundai Verna 1.6', 'Hyundai Verna Fluidic',\n",
       "        'Hyundai Verna Transform', 'Hyundai Verna VGT',\n",
       "        'Hyundai Xcent Base', 'Hyundai Xcent SX', 'Hyundai i10',\n",
       "        'Hyundai i10 Era', 'Hyundai i10 Magna', 'Hyundai i10 Sportz',\n",
       "        'Hyundai i20', 'Hyundai i20 Active', 'Hyundai i20 Asta',\n",
       "        'Hyundai i20 Magna', 'Hyundai i20 Select', 'Hyundai i20 Sportz',\n",
       "        'Jaguar XE XE', 'Jaguar XF 2.2', 'Jeep Wrangler Unlimited',\n",
       "        'Land Rover Freelander', 'Mahindra Bolero DI',\n",
       "        'Mahindra Bolero Power', 'Mahindra Bolero SLE',\n",
       "        'Mahindra Jeep CL550', 'Mahindra Jeep MM', 'Mahindra KUV100',\n",
       "        'Mahindra KUV100 K8', 'Mahindra Logan', 'Mahindra Logan Diesel',\n",
       "        'Mahindra Quanto C4', 'Mahindra Quanto C8', 'Mahindra Scorpio',\n",
       "        'Mahindra Scorpio 2.6', 'Mahindra Scorpio LX',\n",
       "        'Mahindra Scorpio S10', 'Mahindra Scorpio S4',\n",
       "        'Mahindra Scorpio SLE', 'Mahindra Scorpio SLX',\n",
       "        'Mahindra Scorpio VLX', 'Mahindra Scorpio Vlx',\n",
       "        'Mahindra Scorpio W', 'Mahindra TUV300 T4', 'Mahindra TUV300 T8',\n",
       "        'Mahindra Thar CRDe', 'Mahindra XUV500', 'Mahindra XUV500 W10',\n",
       "        'Mahindra XUV500 W6', 'Mahindra XUV500 W8', 'Mahindra Xylo D2',\n",
       "        'Mahindra Xylo E4', 'Mahindra Xylo E8', 'Maruti Suzuki 800',\n",
       "        'Maruti Suzuki A', 'Maruti Suzuki Alto', 'Maruti Suzuki Baleno',\n",
       "        'Maruti Suzuki Celerio', 'Maruti Suzuki Ciaz',\n",
       "        'Maruti Suzuki Dzire', 'Maruti Suzuki Eeco',\n",
       "        'Maruti Suzuki Ertiga', 'Maruti Suzuki Esteem',\n",
       "        'Maruti Suzuki Estilo', 'Maruti Suzuki Maruti',\n",
       "        'Maruti Suzuki Omni', 'Maruti Suzuki Ritz', 'Maruti Suzuki S',\n",
       "        'Maruti Suzuki SX4', 'Maruti Suzuki Stingray',\n",
       "        'Maruti Suzuki Swift', 'Maruti Suzuki Versa',\n",
       "        'Maruti Suzuki Vitara', 'Maruti Suzuki Wagon', 'Maruti Suzuki Zen',\n",
       "        'Mercedes Benz A', 'Mercedes Benz B', 'Mercedes Benz C',\n",
       "        'Mercedes Benz GLA', 'Mini Cooper S', 'Mitsubishi Lancer 1.8',\n",
       "        'Mitsubishi Pajero Sport', 'Nissan Micra XL', 'Nissan Micra XV',\n",
       "        'Nissan Sunny', 'Nissan Sunny XL', 'Nissan Terrano XL',\n",
       "        'Nissan X Trail', 'Renault Duster', 'Renault Duster 110',\n",
       "        'Renault Duster 110PS', 'Renault Duster 85', 'Renault Duster 85PS',\n",
       "        'Renault Duster RxL', 'Renault Kwid', 'Renault Kwid 1.0',\n",
       "        'Renault Kwid RXT', 'Renault Lodgy 85', 'Renault Scala RxL',\n",
       "        'Skoda Fabia', 'Skoda Fabia 1.2L', 'Skoda Fabia Classic',\n",
       "        'Skoda Laura', 'Skoda Octavia Classic', 'Skoda Rapid Elegance',\n",
       "        'Skoda Superb 1.8', 'Skoda Yeti Ambition', 'Tata Aria Pleasure',\n",
       "        'Tata Bolt XM', 'Tata Indica', 'Tata Indica V2', 'Tata Indica eV2',\n",
       "        'Tata Indigo CS', 'Tata Indigo LS', 'Tata Indigo LX',\n",
       "        'Tata Indigo Marina', 'Tata Indigo eCS', 'Tata Manza',\n",
       "        'Tata Manza Aqua', 'Tata Manza Aura', 'Tata Manza ELAN',\n",
       "        'Tata Nano', 'Tata Nano Cx', 'Tata Nano GenX', 'Tata Nano LX',\n",
       "        'Tata Nano Lx', 'Tata Sumo Gold', 'Tata Sumo Grande',\n",
       "        'Tata Sumo Victa', 'Tata Tiago Revotorq', 'Tata Tiago Revotron',\n",
       "        'Tata Tigor Revotron', 'Tata Venture EX', 'Tata Vista Quadrajet',\n",
       "        'Tata Zest Quadrajet', 'Tata Zest XE', 'Tata Zest XM',\n",
       "        'Toyota Corolla', 'Toyota Corolla Altis', 'Toyota Corolla H2',\n",
       "        'Toyota Etios', 'Toyota Etios G', 'Toyota Etios GD',\n",
       "        'Toyota Etios Liva', 'Toyota Fortuner', 'Toyota Fortuner 3.0',\n",
       "        'Toyota Innova 2.0', 'Toyota Innova 2.5', 'Toyota Qualis',\n",
       "        'Volkswagen Jetta Comfortline', 'Volkswagen Jetta Highline',\n",
       "        'Volkswagen Passat Diesel', 'Volkswagen Polo',\n",
       "        'Volkswagen Polo Comfortline', 'Volkswagen Polo Highline',\n",
       "        'Volkswagen Polo Highline1.2L', 'Volkswagen Polo Trendline',\n",
       "        'Volkswagen Vento Comfortline', 'Volkswagen Vento Highline',\n",
       "        'Volkswagen Vento Konekt', 'Volvo S80 Summum'], dtype=object),\n",
       " array(['Audi', 'BMW', 'Chevrolet', 'Datsun', 'Fiat', 'Force', 'Ford',\n",
       "        'Hindustan', 'Honda', 'Hyundai', 'Jaguar', 'Jeep', 'Land',\n",
       "        'Mahindra', 'Maruti', 'Mercedes', 'Mini', 'Mitsubishi', 'Nissan',\n",
       "        'Renault', 'Skoda', 'Tata', 'Toyota', 'Volkswagen', 'Volvo'],\n",
       "       dtype=object),\n",
       " array(['Diesel', 'LPG', 'Petrol'], dtype=object)]"
      ]
     },
     "execution_count": 48,
     "metadata": {},
     "output_type": "execute_result"
    }
   ],
   "source": [
    "ohe.categories_"
   ]
  },
  {
   "cell_type": "code",
   "execution_count": 49,
   "id": "c1dc7048",
   "metadata": {},
   "outputs": [],
   "source": [
    "column_trans = make_column_transformer((OneHotEncoder(categories = ohe.categories_),['name','company','fuel_type']),remainder ='passthrough')"
   ]
  },
  {
   "cell_type": "code",
   "execution_count": 67,
   "id": "3e10d60b",
   "metadata": {
    "scrolled": true
   },
   "outputs": [],
   "source": [
    "lr=LinearRegression()"
   ]
  },
  {
   "cell_type": "code",
   "execution_count": 68,
   "id": "5662f440",
   "metadata": {},
   "outputs": [],
   "source": [
    "pipe=make_pipeline(column_trans,lr)"
   ]
  },
  {
   "cell_type": "code",
   "execution_count": 69,
   "id": "b637dca6",
   "metadata": {},
   "outputs": [
    {
     "data": {
      "text/plain": [
       "Pipeline(steps=[('columntransformer',\n",
       "                 ColumnTransformer(remainder='passthrough',\n",
       "                                   transformers=[('onehotencoder',\n",
       "                                                  OneHotEncoder(categories=[array(['Audi A3 Cabriolet', 'Audi A4 1.8', 'Audi A4 2.0', 'Audi A6 2.0',\n",
       "       'Audi A8', 'Audi Q3 2.0', 'Audi Q5 2.0', 'Audi Q7', 'BMW 3 Series',\n",
       "       'BMW 5 Series', 'BMW 7 Series', 'BMW X1', 'BMW X1 sDrive20d',\n",
       "       'BMW X1 xDrive20d', 'Chevrolet Beat', 'Chevrolet Beat...\n",
       "                                                                            array(['Audi', 'BMW', 'Chevrolet', 'Datsun', 'Fiat', 'Force', 'Ford',\n",
       "       'Hindustan', 'Honda', 'Hyundai', 'Jaguar', 'Jeep', 'Land',\n",
       "       'Mahindra', 'Maruti', 'Mercedes', 'Mini', 'Mitsubishi', 'Nissan',\n",
       "       'Renault', 'Skoda', 'Tata', 'Toyota', 'Volkswagen', 'Volvo'],\n",
       "      dtype=object),\n",
       "                                                                            array(['Diesel', 'LPG', 'Petrol'], dtype=object)]),\n",
       "                                                  ['name', 'company',\n",
       "                                                   'fuel_type'])])),\n",
       "                ('linearregression', LinearRegression())])"
      ]
     },
     "execution_count": 69,
     "metadata": {},
     "output_type": "execute_result"
    }
   ],
   "source": [
    "pipe.fit(X_train,y_train)"
   ]
  },
  {
   "cell_type": "code",
   "execution_count": 70,
   "id": "4bda6c6c",
   "metadata": {},
   "outputs": [],
   "source": [
    "y_pred = pipe.predict(X_test)"
   ]
  },
  {
   "cell_type": "code",
   "execution_count": 71,
   "id": "d3def3d0",
   "metadata": {},
   "outputs": [
    {
     "data": {
      "text/plain": [
       "0.5926661152446542"
      ]
     },
     "execution_count": 71,
     "metadata": {},
     "output_type": "execute_result"
    }
   ],
   "source": [
    "r2_score(y_test,y_pred)"
   ]
  },
  {
   "cell_type": "code",
   "execution_count": 72,
   "id": "0390985a",
   "metadata": {},
   "outputs": [],
   "source": [
    "scores=[]\n",
    "for i in range(1000):\n",
    "    X_train,X_test,y_train,y_test =train_test_split(X,y,test_size=0.2,random_state=i)\n",
    "    lr=LinearRegression()\n",
    "    pipe=make_pipeline(column_trans,lr)\n",
    "    pipe.fit(X_train,y_train)\n",
    "    y_pred = pipe.predict(X_test)\n",
    "    scores.append(r2_score(y_test,y_pred))"
   ]
  },
  {
   "cell_type": "code",
   "execution_count": 73,
   "id": "239373cc",
   "metadata": {},
   "outputs": [
    {
     "data": {
      "text/plain": [
       "433"
      ]
     },
     "execution_count": 73,
     "metadata": {},
     "output_type": "execute_result"
    }
   ],
   "source": [
    "np.argmax(scores)"
   ]
  },
  {
   "cell_type": "code",
   "execution_count": 74,
   "id": "3d12b891",
   "metadata": {},
   "outputs": [
    {
     "data": {
      "text/plain": [
       "0.8457042416667213"
      ]
     },
     "execution_count": 74,
     "metadata": {},
     "output_type": "execute_result"
    }
   ],
   "source": [
    "scores[np.argmax(scores)]"
   ]
  },
  {
   "cell_type": "code",
   "execution_count": 76,
   "id": "fb3c9c54",
   "metadata": {},
   "outputs": [
    {
     "data": {
      "text/plain": [
       "0.8457042416667213"
      ]
     },
     "execution_count": 76,
     "metadata": {},
     "output_type": "execute_result"
    }
   ],
   "source": [
    "X_train,X_test,y_train,y_test =train_test_split(X,y,test_size=0.2,random_state=np.argmax(scores))\n",
    "lr=LinearRegression()\n",
    "pipe=make_pipeline(column_trans,lr)\n",
    "pipe.fit(X_train,y_train)\n",
    "y_pred = pipe.predict(X_test)\n",
    "scores.append(r2_score(y_test,y_pred))\n",
    "r2_score(y_test,y_pred)"
   ]
  },
  {
   "cell_type": "code",
   "execution_count": 77,
   "id": "8dd7c61f",
   "metadata": {},
   "outputs": [],
   "source": [
    "import pickle"
   ]
  },
  {
   "cell_type": "code",
   "execution_count": 78,
   "id": "4d3318d7",
   "metadata": {},
   "outputs": [],
   "source": [
    "pickle.dump(pipe,open('LinearRegressionModel.pkl','wb'))"
   ]
  },
  {
   "cell_type": "code",
   "execution_count": 84,
   "id": "6a9aa8b9",
   "metadata": {},
   "outputs": [
    {
     "data": {
      "text/plain": [
       "array([458900.81022717])"
      ]
     },
     "execution_count": 84,
     "metadata": {},
     "output_type": "execute_result"
    }
   ],
   "source": [
    "pipe.predict(pd.DataFrame([['Maruti Suzuki Swift','Maruti',2019,100,'Petrol']], columns=['name','company','year','kms_driven','fuel_type']))"
   ]
  }
 ],
 "metadata": {
  "kernelspec": {
   "display_name": "Python 3 (ipykernel)",
   "language": "python",
   "name": "python3"
  },
  "language_info": {
   "codemirror_mode": {
    "name": "ipython",
    "version": 3
   },
   "file_extension": ".py",
   "mimetype": "text/x-python",
   "name": "python",
   "nbconvert_exporter": "python",
   "pygments_lexer": "ipython3",
   "version": "3.9.13"
  }
 },
 "nbformat": 4,
 "nbformat_minor": 5
}
